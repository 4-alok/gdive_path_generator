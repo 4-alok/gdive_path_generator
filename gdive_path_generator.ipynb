{
 "cells": [
  {
   "cell_type": "code",
   "execution_count": null,
   "metadata": {},
   "outputs": [],
   "source": [
    "import os\n",
    "from googleapiclient.discovery import build\n",
    "from google.oauth2.credentials import Credentials\n",
    "from datetime import datetime\n",
    "import time"
   ]
  },
  {
   "cell_type": "code",
   "execution_count": null,
   "metadata": {},
   "outputs": [],
   "source": [
    "start_time = time.time()\n",
    "\n",
    "# Using the token.json file to authenticate the user.\n",
    "creds = Credentials.from_authorized_user_file('token.json', ['https://www.googleapis.com/auth/drive'])\n",
    "# Building a service object that will be used to make requests to the Google Drive API.\n",
    "service = build('drive', 'v3', credentials=creds)\n",
    "\n",
    "FOLDER_ID = 'YOUR_FOLDER_ID'\n",
    "PATH=''\n",
    "\n",
    "\n",
    "# Create Drive API client\n",
    "drive_service = build('drive', 'v3', credentials=creds)"
   ]
  },
  {
   "cell_type": "code",
   "execution_count": null,
   "metadata": {},
   "outputs": [],
   "source": [
    "def get_directory_tree_and_files(folder_id, path='', results=[]):\n",
    "    query = f\"'{folder_id}' in parents and trashed = false\"\n",
    "    files = drive_service.files().list(q=query, fields='nextPageToken, files(id, name, mimeType, createdTime, modifiedTime, webViewLink, description, size, owners(emailAddress))').execute().get('files', [])\n",
    "    for file in files:\n",
    "        file_path = os.path.join(path, file['name'])\n",
    "        file_type = 'Folder' if file['mimeType'] == 'application/vnd.google-apps.folder' else file['mimeType']\n",
    "        file_date = datetime.fromisoformat(file['createdTime'][:-1]).strftime('%Y-%m-%d %H:%M:%S')\n",
    "        file_updated = datetime.fromisoformat(file['modifiedTime'][:-1]).strftime('%Y-%m-%d %H:%M:%S')\n",
    "        file_url = file['webViewLink'] if 'webViewLink' in file else ''\n",
    "        file_description = file['description'] if 'description' in file else ''\n",
    "        file_size = file['size'] if 'size' in file else ''\n",
    "        file_owner_email = file['owners'][0]['emailAddress'] if 'owners' in file and file['owners'] else ''\n",
    "        results.append([file_path, os.path.basename(file_path), file_type, file_date, file_url, file_updated, file_description, file_size, file_owner_email])\n",
    "        if file_type == 'Folder':\n",
    "            get_directory_tree_and_files(file['id'], file_path, results)\n",
    "    return results"
   ]
  },
  {
   "cell_type": "code",
   "execution_count": null,
   "metadata": {},
   "outputs": [],
   "source": [
    "# Get the list of paths of the directory tree and files\n",
    "directory_tree_and_files = get_directory_tree_and_files(FOLDER_ID, path=PATH)\n",
    "\n",
    "# Print the Full Path, Name, Type, Date, URL, Last Updated, Description, Size, and Owner Email of the files and folders\n",
    "for file in directory_tree_and_files:\n",
    "    print(file[0])\n",
    "\n",
    "print(f\"Time taken to get data: {time.time() - start_time} seconds\")"
   ]
  },
  {
   "cell_type": "code",
   "execution_count": null,
   "metadata": {},
   "outputs": [],
   "source": [
    "#  print length\n",
    "print(len(directory_tree_and_files))\n",
    "\n",
    "new_list = []\n",
    "# remove duplicates if there is same path\n",
    "for i in directory_tree_and_files:\n",
    "    if i not in new_list:\n",
    "        new_list.append(i)\n",
    "\n",
    "# print length\n",
    "print(len(new_list))"
   ]
  },
  {
   "cell_type": "code",
   "execution_count": null,
   "metadata": {},
   "outputs": [],
   "source": [
    "# convert size to kilobytes\n",
    "for i in new_list:\n",
    "    if i[7]:\n",
    "        i[7] = int(i[7]) / 1024\n"
   ]
  },
  {
   "cell_type": "code",
   "execution_count": null,
   "metadata": {},
   "outputs": [],
   "source": [
    "import pandas as pd\n",
    "# save the data to a csv file\n",
    "df = pd.DataFrame(new_list, columns=['Full Path', 'Name', 'Type', 'Date', 'URL', 'Last Updated', 'Description', 'Size', 'Owner Email'])\n",
    "df.to_csv('gdrive2.csv', index=False)\n",
    "\n",
    "# save the data to a excel file\n",
    "df = pd.DataFrame(new_list, columns=['Full Path', 'Name', 'Type', 'Date', 'URL', 'Last Updated', 'Description', 'Size', 'Owner Email'])\n",
    "df.to_excel('gdrive2.xlsx', index=False)\n",
    "\n"
   ]
  }
 ],
 "metadata": {
  "language_info": {
   "name": "python"
  },
  "orig_nbformat": 4
 },
 "nbformat": 4,
 "nbformat_minor": 2
}
