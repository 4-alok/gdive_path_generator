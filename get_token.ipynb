{
 "cells": [
  {
   "cell_type": "code",
   "execution_count": 1,
   "metadata": {},
   "outputs": [
    {
     "name": "stdout",
     "output_type": "stream",
     "text": [
      "Please visit this URL to authorize this application: https://accounts.google.com/o/oauth2/auth?response_type=code&client_id=980382777793-dfl05lnb7c36s9uhuc70h1up5plvgnu3.apps.googleusercontent.com&redirect_uri=http%3A%2F%2Flocalhost%3A47019%2F&scope=https%3A%2F%2Fwww.googleapis.com%2Fauth%2Fdrive&state=8x52P9WcY8Ebx3S0uucDxPOtGBuR6T&access_type=offline\n"
     ]
    }
   ],
   "source": [
    "from google.oauth2.credentials import Credentials\n",
    "from google_auth_oauthlib.flow import InstalledAppFlow\n",
    "\n",
    "SCOPES = ['https://www.googleapis.com/auth/drive']\n",
    "\n",
    "# This is the authentication process. A browser window will open and ask you to authenticate.\n",
    "flow = InstalledAppFlow.from_client_secrets_file('credentials.json', SCOPES)\n",
    "creds = flow.run_local_server(port=0)\n",
    "\n",
    "# save the credentials for future use\n",
    "with open('token.json', 'w') as token_file:\n",
    "    token_file.write(creds.to_json())"
   ]
  }
 ],
 "metadata": {
  "kernelspec": {
   "display_name": "Python 3",
   "language": "python",
   "name": "python3"
  },
  "language_info": {
   "codemirror_mode": {
    "name": "ipython",
    "version": 3
   },
   "file_extension": ".py",
   "mimetype": "text/x-python",
   "name": "python",
   "nbconvert_exporter": "python",
   "pygments_lexer": "ipython3",
   "version": "3.10.7"
  },
  "orig_nbformat": 4,
  "vscode": {
   "interpreter": {
    "hash": "916dbcbb3f70747c44a77c7bcd40155683ae19c65e1c03b4aa3499c5328201f1"
   }
  }
 },
 "nbformat": 4,
 "nbformat_minor": 2
}
